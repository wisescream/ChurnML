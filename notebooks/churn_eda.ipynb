{
 "cells": [
  {
   "cell_type": "markdown",
   "id": "fe736cee",
   "metadata": {},
   "source": [
    "# Telecom Churn EDA\n",
    "\n",
    "This notebook explores the telecom churn dataset and visualizes key patterns."
   ]
  },
  {
   "cell_type": "code",
   "execution_count": null,
   "id": "67f08dd6",
   "metadata": {},
   "outputs": [],
   "source": [
    "import pandas as pd\n",
    "import seaborn as sns\n",
    "import matplotlib.pyplot as plt\n",
    "\n",
    "sns.set_theme(style=\"whitegrid\")\n",
    "pd.set_option(\"display.max_columns\", 20)\n",
    "\n",
    "data_path = \"../data/raw/telecom_churn.csv\"\n",
    "df = pd.read_csv(data_path)\n",
    "df.head()"
   ]
  },
  {
   "cell_type": "markdown",
   "id": "8264b882",
   "metadata": {},
   "source": [
    "## Dataset Summary\n",
    "This section captures quick stats for numeric and categorical fields to understand distribution and missing values."
   ]
  },
  {
   "cell_type": "code",
   "execution_count": null,
   "id": "5c105d9b",
   "metadata": {},
   "outputs": [],
   "source": [
    "numeric_summary = df.select_dtypes(include=\"number\").describe().T\n",
    "categorical_summary = df.select_dtypes(exclude=\"number\").describe().T\n",
    "missing_values = df.isna().sum().sort_values(ascending=False)\n",
    "\n",
    "display(numeric_summary.head(10))\n",
    "display(categorical_summary.head(10))\n",
    "display(missing_values[missing_values > 0])"
   ]
  },
  {
   "cell_type": "markdown",
   "id": "8a74c73c",
   "metadata": {},
   "source": [
    "## Churn Distribution\n",
    "Visualise the churn balance to understand class imbalance before modeling."
   ]
  },
  {
   "cell_type": "code",
   "execution_count": null,
   "id": "0b25fa79",
   "metadata": {},
   "outputs": [],
   "source": [
    "fig, ax = plt.subplots(figsize=(6, 4))\n",
    "sns.countplot(x=\"Churn Label\", data=df, palette=\"muted\", ax=ax)\n",
    "ax.set_title(\"Churn Label Distribution\")\n",
    "ax.set_xlabel(\"Churn Label\")\n",
    "ax.set_ylabel(\"Customer Count\")\n",
    "ax.bar_label(ax.containers[0])\n",
    "plt.tight_layout()\n",
    "plt.show()"
   ]
  },
  {
   "cell_type": "markdown",
   "id": "e945b805",
   "metadata": {},
   "source": [
    "## Contract Type vs. Churn\n",
    "Longer commitments typically lead to lower churn; validate this intuition with the data."
   ]
  },
  {
   "cell_type": "code",
   "execution_count": null,
   "id": "55e89c5b",
   "metadata": {},
   "outputs": [],
   "source": [
    "contract_churn = (\n",
    "    df.groupby([\"Contract\", \"Churn Label\"])\n",
    "    .size()\n",
    "    .reset_index(name=\"count\")\n",
    "    .pivot(index=\"Contract\", columns=\"Churn Label\", values=\"count\")\n",
    "    .fillna(0)\n",
    " )\n",
    "contract_share = contract_churn.div(contract_churn.sum(axis=1), axis=0)\n",
    "\n",
    "fig, axes = plt.subplots(1, 2, figsize=(12, 4))\n",
    "sns.heatmap(contract_churn, annot=True, fmt=\".0f\", cmap=\"Blues\", ax=axes[0])\n",
    "axes[0].set_title(\"Customers per Contract / Churn Label\")\n",
    "sns.heatmap(contract_share, annot=True, fmt=\".0%\", cmap=\"Greens\", ax=axes[1])\n",
    "axes[1].set_title(\"Churn Share within Contract\")\n",
    "plt.tight_layout()\n",
    "plt.show()"
   ]
  },
  {
   "cell_type": "markdown",
   "id": "67ae26a0",
   "metadata": {},
   "source": [
    "## Monthly Charges vs. Churn\n",
    "Higher monthly charges often correlate with churn—check density differences across classes."
   ]
  },
  {
   "cell_type": "code",
   "execution_count": null,
   "id": "33527f3a",
   "metadata": {},
   "outputs": [],
   "source": [
    "fig, ax = plt.subplots(figsize=(8, 4))\n",
    "sns.kdeplot(data=df, x=\"Monthly Charges\", hue=\"Churn Label\", fill=True, common_norm=False, alpha=0.4, ax=ax)\n",
    "ax.set_title(\"Monthly Charges Density by Churn Label\")\n",
    "plt.tight_layout()\n",
    "plt.show()"
   ]
  },
  {
   "cell_type": "markdown",
   "id": "c054a016",
   "metadata": {},
   "source": [
    "## Tenure Segmentation\n",
    "Bucket tenure into cohorts to highlight early-life churn risks."
   ]
  },
  {
   "cell_type": "code",
   "execution_count": null,
   "id": "e424eb61",
   "metadata": {},
   "outputs": [],
   "source": [
    "tenure_bins = pd.cut(df[\"Tenure Months\"], bins=[0, 6, 12, 24, 36, 48, 60, 72], right=False, include_lowest=True)\n",
    "tenure_churn = (\n",
    "    df.assign(tenure_bin=tenure_bins)\n",
    "    .groupby([\"tenure_bin\", \"Churn Label\"])\n",
    "    .size()\n",
    "    .reset_index(name=\"count\")\n",
    " )\n",
    "fig, ax = plt.subplots(figsize=(10, 4))\n",
    "sns.barplot(data=tenure_churn, x=\"tenure_bin\", y=\"count\", hue=\"Churn Label\", ax=ax)\n",
    "ax.set_title(\"Churn Counts by Tenure Cohort\")\n",
    "ax.set_xlabel(\"Tenure (months)\")\n",
    "ax.set_ylabel(\"Customer Count\")\n",
    "plt.xticks(rotation=45)\n",
    "plt.tight_layout()\n",
    "plt.show()"
   ]
  },
  {
   "cell_type": "markdown",
   "id": "5ee185ee",
   "metadata": {},
   "source": [
    "## Churn Rate by State\n",
    "Highlight states with elevated churn to prioritise retention campaigns."
   ]
  },
  {
   "cell_type": "code",
   "execution_count": null,
   "id": "109b75ea",
   "metadata": {},
   "outputs": [],
   "source": [
    "state_churn = (\n",
    "    df.groupby(\"State\")[\"Churn Value\"].agg([\"mean\", \"count\"]).rename(columns={\"mean\": \"churn_rate\", \"count\": \"customers\"})\n",
    "    .sort_values(\"churn_rate\", ascending=False)\n",
    " )\n",
    "top_states = state_churn.head(10).reset_index()\n",
    "\n",
    "fig, ax = plt.subplots(figsize=(8, 5))\n",
    "sns.barplot(data=top_states, x=\"churn_rate\", y=\"State\", palette=\"Reds\", ax=ax)\n",
    "ax.set_title(\"Top 10 States by Churn Rate\")\n",
    "ax.set_xlabel(\"Churn Rate\")\n",
    "ax.set_ylabel(\"State\")\n",
    "for container in ax.containers:\n",
    "    ax.bar_label(container, fmt=\"{:.1%}\")\n",
    "plt.tight_layout()\n",
    "plt.show()"
   ]
  },
  {
   "cell_type": "markdown",
   "id": "4fb9d02b",
   "metadata": {},
   "source": [
    "## Key Takeaways\n",
    "- Early-tenure customers (<12 months) contribute a disproportionate share of churn.\\n- Month-to-month contracts and higher monthly charges align with higher churn rates.\\n- Texas and Florida show elevated churn in the latest refresh, suggesting regional campaigns."
   ]
  }
 ],
 "metadata": {
  "language_info": {
   "name": "python"
  }
 },
 "nbformat": 4,
 "nbformat_minor": 5
}
